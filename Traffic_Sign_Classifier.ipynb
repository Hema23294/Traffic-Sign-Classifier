{
 "cells": [
  {
   "cell_type": "markdown",
   "metadata": {},
   "source": [
    "# Self-Driving Car Engineer Nanodegree\n",
    "\n",
    "## Deep Learning\n",
    "\n",
    "## Project: Build a Traffic Sign Recognition Classifier\n",
    "\n",
    "In this notebook, a template is provided for you to implement your functionality in stages, which is required to successfully complete this project. If additional code is required that cannot be included in the notebook, be sure that the Python code is successfully imported and included in your submission if necessary. \n",
    "\n",
    "> **Note**: Once you have completed all of the code implementations, you need to finalize your work by exporting the iPython Notebook as an HTML document. Before exporting the notebook to html, all of the code cells need to have been run so that reviewers can see the final implementation and output. You can then export the notebook by using the menu above and navigating to  \\n\",\n",
    "    \"**File -> Download as -> HTML (.html)**. Include the finished document along with this notebook as your submission. \n",
    "\n",
    "In addition to implementing code, there is a writeup to complete. The writeup should be completed in a separate file, which can be either a markdown file or a pdf document. There is a [write up template](https://github.com/udacity/CarND-Traffic-Sign-Classifier-Project/blob/master/writeup_template.md) that can be used to guide the writing process. Completing the code template and writeup template will cover all of the [rubric points](https://review.udacity.com/#!/rubrics/481/view) for this project.\n",
    "\n",
    "The [rubric](https://review.udacity.com/#!/rubrics/481/view) contains \"Stand Out Suggestions\" for enhancing the project beyond the minimum requirements. The stand out suggestions are optional. If you decide to pursue the \"stand out suggestions\", you can include the code in this Ipython notebook and also discuss the results in the writeup file.\n",
    "\n",
    "\n",
    ">**Note:** Code and Markdown cells can be executed using the **Shift + Enter** keyboard shortcut. In addition, Markdown cells can be edited by typically double-clicking the cell to enter edit mode."
   ]
  },
  {
   "cell_type": "markdown",
   "metadata": {},
   "source": [
    "---\n",
    "## Step 0: Load The Data"
   ]
  },
  {
   "cell_type": "code",
   "execution_count": 1,
   "metadata": {},
   "outputs": [],
   "source": [
    "# Load pickled data\n",
    "import pickle\n",
    "import pandas as pd\n",
    "import numpy as np\n",
    "# TODO: Fill this in based on where you saved the training and testing data\n",
    "\n",
    "training_file ='../data/train.p'\n",
    "validation_file='../data/test.p'\n",
    "testing_file ='../data/valid.p'\n",
    "\n",
    "with open(training_file, mode='rb') as f:\n",
    "    train = pickle.load(f)\n",
    "with open(validation_file, mode='rb') as f:\n",
    "    valid = pickle.load(f)\n",
    "with open(testing_file, mode='rb') as f:\n",
    "    test = pickle.load(f)\n",
    "    \n",
    "X_train, y_train = train['features'], train['labels']\n",
    "X_valid, y_valid = valid['features'], valid['labels']\n",
    "X_test, y_test = test['features'], test['labels']"
   ]
  },
  {
   "cell_type": "markdown",
   "metadata": {},
   "source": [
    "---\n",
    "\n",
    "## Step 1: Dataset Summary & Exploration\n",
    "\n",
    "The pickled data is a dictionary with 4 key/value pairs:\n",
    "\n",
    "- `'features'` is a 4D array containing raw pixel data of the traffic sign images, (num examples, width, height, channels).\n",
    "- `'labels'` is a 1D array containing the label/class id of the traffic sign. The file `signnames.csv` contains id -> name mappings for each id.\n",
    "- `'sizes'` is a list containing tuples, (width, height) representing the original width and height the image.\n",
    "- `'coords'` is a list containing tuples, (x1, y1, x2, y2) representing coordinates of a bounding box around the sign in the image. **THESE COORDINATES ASSUME THE ORIGINAL IMAGE. THE PICKLED DATA CONTAINS RESIZED VERSIONS (32 by 32) OF THESE IMAGES**\n",
    "\n",
    "Complete the basic data summary below. Use python, numpy and/or pandas methods to calculate the data summary rather than hard coding the results. For example, the [pandas shape method](http://pandas.pydata.org/pandas-docs/stable/generated/pandas.DataFrame.shape.html) might be useful for calculating some of the summary results. "
   ]
  },
  {
   "cell_type": "markdown",
   "metadata": {},
   "source": [
    "### Provide a Basic Summary of the Data Set Using Python, Numpy and/or Pandas"
   ]
  },
  {
   "cell_type": "code",
   "execution_count": 2,
   "metadata": {},
   "outputs": [
    {
     "name": "stdout",
     "output_type": "stream",
     "text": [
      "Number of training examples = 34799\n",
      "Number of validation examples = 12630\n",
      "Number of testing examples = 4410\n",
      "Image data shape = (34799, 2)\n",
      "Number of classes = 43\n"
     ]
    }
   ],
   "source": [
    "### Replace each question mark with the appropriate value. \n",
    "### Use python, pandas or numpy methods rather than hard coding the results\n",
    "\n",
    "# TODO: Number of training examples\n",
    "n_train = X_train.shape[0]\n",
    "\n",
    "# TODO: Number of validation examples\n",
    "n_validation = X_valid.shape[0]\n",
    "\n",
    "# TODO: Number of testing examples.\n",
    "n_test = X_test.shape[0]\n",
    "\n",
    "# TODO: What's the shape of an traffic sign image?\n",
    "image_shape =train['sizes'].shape\n",
    "\n",
    "# TODO: How many unique classes/labels there are in the dataset.\n",
    "n_classes = np.unique(y_train).shape[0]\n",
    "\n",
    "print(\"Number of training examples =\", n_train)\n",
    "print(\"Number of validation examples =\", n_validation)\n",
    "print(\"Number of testing examples =\", n_test)\n",
    "print(\"Image data shape =\", image_shape)\n",
    "print(\"Number of classes =\", n_classes)"
   ]
  },
  {
   "cell_type": "markdown",
   "metadata": {},
   "source": [
    "### Include an exploratory visualization of the dataset"
   ]
  },
  {
   "cell_type": "markdown",
   "metadata": {},
   "source": [
    "Visualize the German Traffic Signs Dataset using the pickled file(s). This is open ended, suggestions include: plotting traffic sign images, plotting the count of each sign, etc. \n",
    "\n",
    "The [Matplotlib](http://matplotlib.org/) [examples](http://matplotlib.org/examples/index.html) and [gallery](http://matplotlib.org/gallery.html) pages are a great resource for doing visualizations in Python.\n",
    "\n",
    "**NOTE:** It's recommended you start with something simple first. If you wish to do more, come back to it after you've completed the rest of the sections. It can be interesting to look at the distribution of classes in the training, validation and test set. Is the distribution the same? Are there more examples of some classes than others?"
   ]
  },
  {
   "cell_type": "code",
   "execution_count": 3,
   "metadata": {},
   "outputs": [
    {
     "data": {
      "text/plain": [
       "'/home/workspace/CarND-Traffic-Sign-Classifier-Project'"
      ]
     },
     "execution_count": 3,
     "metadata": {},
     "output_type": "execute_result"
    }
   ],
   "source": [
    "### Data exploration visualization code goes here.\n",
    "### Feel free to use as many code cells as needed\n",
    "import matplotlib.pyplot as plt\n",
    "import matplotlib.image as mpimg\n",
    "# Visualizations will be shown in the notebook.\n",
    "%matplotlib inline\n",
    "import cv2\n",
    "import os\n",
    "path=os.getcwd()\n",
    "path"
   ]
  },
  {
   "cell_type": "code",
   "execution_count": 4,
   "metadata": {},
   "outputs": [
    {
     "data": {
      "text/html": [
       "<div>\n",
       "<style scoped>\n",
       "    .dataframe tbody tr th:only-of-type {\n",
       "        vertical-align: middle;\n",
       "    }\n",
       "\n",
       "    .dataframe tbody tr th {\n",
       "        vertical-align: top;\n",
       "    }\n",
       "\n",
       "    .dataframe thead th {\n",
       "        text-align: right;\n",
       "    }\n",
       "</style>\n",
       "<table border=\"1\" class=\"dataframe\">\n",
       "  <thead>\n",
       "    <tr style=\"text-align: right;\">\n",
       "      <th></th>\n",
       "      <th>SignName</th>\n",
       "    </tr>\n",
       "    <tr>\n",
       "      <th>ClassId</th>\n",
       "      <th></th>\n",
       "    </tr>\n",
       "  </thead>\n",
       "  <tbody>\n",
       "    <tr>\n",
       "      <th>0</th>\n",
       "      <td>Speed limit (20km/h)</td>\n",
       "    </tr>\n",
       "    <tr>\n",
       "      <th>1</th>\n",
       "      <td>Speed limit (30km/h)</td>\n",
       "    </tr>\n",
       "    <tr>\n",
       "      <th>2</th>\n",
       "      <td>Speed limit (50km/h)</td>\n",
       "    </tr>\n",
       "    <tr>\n",
       "      <th>3</th>\n",
       "      <td>Speed limit (60km/h)</td>\n",
       "    </tr>\n",
       "    <tr>\n",
       "      <th>4</th>\n",
       "      <td>Speed limit (70km/h)</td>\n",
       "    </tr>\n",
       "  </tbody>\n",
       "</table>\n",
       "</div>"
      ],
      "text/plain": [
       "                     SignName\n",
       "ClassId                      \n",
       "0        Speed limit (20km/h)\n",
       "1        Speed limit (30km/h)\n",
       "2        Speed limit (50km/h)\n",
       "3        Speed limit (60km/h)\n",
       "4        Speed limit (70km/h)"
      ]
     },
     "execution_count": 4,
     "metadata": {},
     "output_type": "execute_result"
    }
   ],
   "source": [
    "#Reading the sign names and making the classId it's index\n",
    "signnames = pd.read_csv('signnames.csv')\n",
    "signnames.set_index('ClassId',inplace=True)\n",
    "signnames.head()"
   ]
  },
  {
   "cell_type": "code",
   "execution_count": 5,
   "metadata": {},
   "outputs": [],
   "source": [
    "def get_sign_name(label):\n",
    "    return signnames.loc[label].SignName"
   ]
  },
  {
   "cell_type": "code",
   "execution_count": 6,
   "metadata": {},
   "outputs": [
    {
     "name": "stdout",
     "output_type": "stream",
     "text": [
      "Most common sign names\n",
      "'Speed limit (50km/h)'  train samples: 2010\n",
      "'Speed limit (30km/h)'  train samples: 1980\n",
      "'Yield'  train samples: 1920\n",
      "'Priority road'  train samples: 1890\n",
      "'Keep right'  train samples: 1860\n",
      "'No passing for vehicles over 3.5 metric tons'  train samples: 1800\n",
      "'Speed limit (70km/h)'  train samples: 1770\n",
      "'Speed limit (80km/h)'  train samples: 1650\n",
      "'Road work'  train samples: 1350\n",
      "'No passing'  train samples: 1320\n",
      "\n",
      "Most rare signs:\n",
      "'Go straight or left'  train samples: 180\n",
      "'Dangerous curve to the left'  train samples: 180\n",
      "'Speed limit (20km/h)'  train samples: 180\n",
      "'End of no passing'  train samples: 210\n",
      "'End of no passing by vehicles over 3.5 metric tons'  train samples: 210\n",
      "'End of all speed and passing limits'  train samples: 210\n",
      "'Pedestrians'  train samples: 210\n",
      "'Bicycles crossing'  train samples: 240\n",
      "'Road narrows on the right'  train samples: 240\n",
      "'Keep left'  train samples: 270\n"
     ]
    }
   ],
   "source": [
    "from collections import Counter\n",
    "counter=Counter(y_train)\n",
    "print(\"Most common sign names\")\n",
    "for e in counter.most_common(10):\n",
    "    print(\"'{}'\".format(get_sign_name(e[0])),' train samples: {}'.format(e[1]))\n",
    "print()\n",
    "print(\"Most rare signs:\")\n",
    "for e in sorted(counter.items(),key=lambda i: i[1])[:10]:\n",
    "    print(\"'{}'\".format(get_sign_name(e[0])),' train samples: {}'.format(e[1]))"
   ]
  },
  {
   "cell_type": "code",
   "execution_count": 7,
   "metadata": {},
   "outputs": [
    {
     "data": {
      "image/png": "[encoded data removed]",
      "text/plain": [
       "<matplotlib.figure.Figure at 0x7f92dacf9278>"
      ]
     },
     "metadata": {
      "needs_background": "light"
     },
     "output_type": "display_data"
    }
   ],
   "source": [
    "import seaborn as sns\n",
    "counts = pd.DataFrame(columns=['sign_label','training_samples_count'],\n",
    "                      data=[(label, count) for label, count in counter.items()])\n",
    "counts['sign'] = counts.sign_label.apply(get_sign_name)\n",
    "plt.figure(figsize=(10,10))\n",
    "sns.set(font_scale=1.3)\n",
    "sns.barplot(x='training_samples_count',y='sign',data=counts,orient='o')\n",
    "plt.xticks(rotation=90)\n",
    "plt.ylabel('Sign Name')\n",
    "plt.xlabel('Number of Training Samples');\n",
    "plt.tight_layout()\n",
    "plt.savefig('plots/training_graph.png')"
   ]
  },
  {
   "cell_type": "code",
   "execution_count": 8,
   "metadata": {},
   "outputs": [
    {
     "name": "stdout",
     "output_type": "stream",
     "text": [
      "Mean of Train examples per class is  809 min is 180 max is 2010\n"
     ]
    }
   ],
   "source": [
    "print(\"Mean of Train examples per class is  {} min is {} max is {}\".format(int(np.mean(list(Counter(y_train).values()))),\n",
    "                                                    np.min(list(Counter(y_train).values())) ,\n",
    "                                                    np.max(list(Counter(y_train).values())) ))"
   ]
  },
  {
   "cell_type": "code",
   "execution_count": 9,
   "metadata": {},
   "outputs": [
    {
     "name": "stdout",
     "output_type": "stream",
     "text": [
      "Updated image shape is:(32, 32, 3)\n",
      "Updated image shape is:(32, 32, 3)\n",
      "Updated image shape is:(32, 32, 3)\n"
     ]
    }
   ],
   "source": [
    "#Padding\n",
    "X_train=np.pad(X_train,((0,0),(0,0),(0,0),(0,0)),'constant')\n",
    "X_validation=np.pad(X_valid,((0,0),(2,2),(2,2),(0,0)),'constant')\n",
    "X_test=np.pad(X_test,((0,0),(0,0),(0,0),(0,0)),'constant')\n",
    "print('Updated image shape is:{}'.format(X_train[0].shape))\n",
    "print('Updated image shape is:{}'.format(X_valid[0].shape))\n",
    "print('Updated image shape is:{}'.format(X_test[0].shape))"
   ]
  },
  {
   "cell_type": "code",
   "execution_count": 10,
   "metadata": {},
   "outputs": [
    {
     "name": "stdout",
     "output_type": "stream",
     "text": [
      "17\n"
     ]
    },
    {
     "data": {
      "image/png": "[encoded data removed]",
      "text/plain": [
       "<matplotlib.figure.Figure at 0x7f92d6125f98>"
      ]
     },
     "metadata": {},
     "output_type": "display_data"
    }
   ],
   "source": [
    "#Visuvalizing a random sample\n",
    "import random\n",
    "index=random.randint(0,len(X_train))\n",
    "image=X_train[index].squeeze()\n",
    "plt.figure(figsize=(1,1))\n",
    "plt.imshow(image,cmap='gray')\n",
    "print(y_train[index])"
   ]
  },
  {
   "cell_type": "markdown",
   "metadata": {},
   "source": [
    "----\n",
    "\n",
    "## Step 2: Design and Test a Model Architecture\n",
    "\n",
    "Design and implement a deep learning model that learns to recognize traffic signs. Train and test your model on the [German Traffic Sign Dataset](http://benchmark.ini.rub.de/?section=gtsrb&subsection=dataset).\n",
    "\n",
    "The LeNet-5 implementation shown in the [classroom](https://classroom.udacity.com/nanodegrees/nd013/parts/fbf77062-5703-404e-b60c-95b78b2f3f9e/modules/6df7ae49-c61c-4bb2-a23e-6527e69209ec/lessons/601ae704-1035-4287-8b11-e2c2716217ad/concepts/d4aca031-508f-4e0b-b493-e7b706120f81) at the end of the CNN lesson is a solid starting point. You'll have to change the number of classes and possibly the preprocessing, but aside from that it's plug and play! \n",
    "\n",
    "With the LeNet-5 solution from the lecture, you should expect a validation set accuracy of about 0.89. To meet specifications, the validation set accuracy will need to be at least 0.93. It is possible to get an even higher accuracy, but 0.93 is the minimum for a successful project submission. \n",
    "\n",
    "There are various aspects to consider when thinking about this problem:\n",
    "\n",
    "- Neural network architecture (is the network over or underfitting?)\n",
    "- Play around preprocessing techniques (normalization, rgb to grayscale, etc)\n",
    "- Number of examples per label (some have more than others).\n",
    "- Generate fake data.\n",
    "\n",
    "Here is an example of a [published baseline model on this problem](http://yann.lecun.com/exdb/publis/pdf/sermanet-ijcnn-11.pdf). It's not required to be familiar with the approach used in the paper but, it's good practice to try to read papers like these."
   ]
  },
  {
   "cell_type": "markdown",
   "metadata": {},
   "source": [
    "### Pre-process the Data Set (normalization, grayscale, etc.)"
   ]
  },
  {
   "cell_type": "markdown",
   "metadata": {},
   "source": [
    "Minimally, the image data should be normalized so that the data has mean zero and equal variance. For image data, `(pixel - 128)/ 128` is a quick way to approximately normalize the data and can be used in this project. \n",
    "\n",
    "Other pre-processing steps are optional. You can try different techniques to see if it improves performance. \n",
    "\n",
    "Use the code cell (or multiple code cells, if necessary) to implement the first step of your project."
   ]
  },
  {
   "cell_type": "code",
   "execution_count": 11,
   "metadata": {},
   "outputs": [],
   "source": [
    "### Preprocess the data here. It is required to normalize the data. Other preprocessing steps could include \n",
    "### converting to grayscale, etc.\n",
    "### Feel free to use as many code cells as needed."
   ]
  },
  {
   "cell_type": "code",
   "execution_count": 12,
   "metadata": {},
   "outputs": [],
   "source": [
    "img_size = 32\n",
    "\n",
    "def sharpen_img(img):\n",
    "    gb = cv2.GaussianBlur(img, (5,5), 20.0)\n",
    "    return cv2.addWeighted(img, 2, gb, -1, 0)\n",
    "\n",
    "def transform_img(img_in):\n",
    "    img_in = img_in.copy()\n",
    "    img_out= sharpen_img(img_in)\n",
    "    img_out = cv2.cvtColor(img_in, cv2.COLOR_RGB2YUV)\n",
    "\n",
    "    img_out[:,:,0] = cv2.equalizeHist(img_out[:,:,0])\n",
    "#     img_out[:,:,1] = cv2.equalizeHist(img_out[:,:,1])\n",
    "#     img_out[:,:,2] = cv2.equalizeHist(img_out[:,:,2])\n",
    "    \n",
    "    return img_out[:,:,0]\n",
    "\n",
    "def random_rotate_img(img):\n",
    "    c_x,c_y = int(img.shape[0]/2), int(img.shape[1]/2)\n",
    "    ang = 30.0*np.random.rand()-15\n",
    "    Mat = cv2.getRotationMatrix2D((c_x, c_y), ang, 1.0)\n",
    "    return cv2.warpAffine(img, Mat, img.shape[:2])\n",
    "\n",
    "def random_scale_img(img):\n",
    "    img2=img.copy()\n",
    "    sc_y=0.4*np.random.rand()+1.0\n",
    "    img2=cv2.resize(img, None, fx=1, fy=sc_y, interpolation = cv2.INTER_CUBIC)\n",
    "    \n",
    "    dy = int((img2.shape[1]-img.shape[0])/2)\n",
    "    end = img.shape[1]-dy\n",
    "    img2 = img2[dy:end,:,:]\n",
    "    assert img2.shape[0] == 32\n",
    "    #print(img2.shape,dy,end)\n",
    "    return img2\n",
    "\n",
    "#Compute linear image transformation ing*s+m\n",
    "def lin_img(img,s=1.0,m=0.0):\n",
    "    img2=cv2.multiply(img, np.array([s]))\n",
    "    return cv2.add(img2, np.array([m]))\n",
    "\n",
    "#Change image contrast; s>1 - increase\n",
    "def contr_img(img, s=1.0):\n",
    "    m=127.0*(1.0-s)\n",
    "    return lin_img(img, s, m)\n",
    "\n",
    "\n",
    "def augment_img(img):\n",
    "    img = img.copy()\n",
    "    img=contr_img(img, 1.8*np.random.rand()+0.2)\n",
    "    img=random_rotate_img(img)\n",
    "    img=random_scale_img(img)\n",
    "\n",
    "    return transform_img(img)"
   ]
  },
  {
   "cell_type": "code",
   "execution_count": 13,
   "metadata": {},
   "outputs": [
    {
     "data": {
      "image/png": "[encoded data removed]",
      "text/plain": [
       "<matplotlib.figure.Figure at 0x7f92d47bf550>"
      ]
     },
     "metadata": {},
     "output_type": "display_data"
    }
   ],
   "source": [
    "index=random.randint(0,len(X_train))\n",
    "img = X_train[index]\n",
    "plt.subplot(1,2,1)\n",
    "plt.imshow(img)\n",
    "plt.title('Original Image')\n",
    "plt.axis('off')\n",
    "plt.subplot(1,2,2)\n",
    "plt.axis('off')\n",
    "plt.imshow(transform_img(img),cmap='gray')\n",
    "plt.title('Transformed Image')\n",
    "plt.tight_layout()\n",
    "plt.savefig('plots/image_transformations.png',bbox_inches='tight')"
   ]
  },
  {
   "cell_type": "code",
   "execution_count": 14,
   "metadata": {},
   "outputs": [
    {
     "name": "stdout",
     "output_type": "stream",
     "text": [
      "(32, 32)\n"
     ]
    },
    {
     "data": {
      "image/png": "[encoded data removed]",
      "text/plain": [
       "<matplotlib.figure.Figure at 0x7f92d47e7dd8>"
      ]
     },
     "metadata": {},
     "output_type": "display_data"
    }
   ],
   "source": [
    "index=random.randint(0,len(X_train))\n",
    "img = X_train[index]\n",
    "plt.subplot(1,2,1)\n",
    "plt.imshow(img)\n",
    "plt.title('Original Image')\n",
    "plt.axis('off')\n",
    "plt.subplot(1,2,2)\n",
    "plt.axis('off')\n",
    "out = augment_img(img)\n",
    "print(out.shape)\n",
    "plt.imshow(out,cmap='gray')\n",
    "plt.title('Augmented Image')\n",
    "plt.tight_layout()\n",
    "\n",
    "plt.savefig('plots/augmented_img_example.png',bbox_inches='tight')"
   ]
  },
  {
   "cell_type": "code",
   "execution_count": 15,
   "metadata": {},
   "outputs": [],
   "source": [
    "#Augumenting all images to generate more training data\n",
    "X_train_transf = list()\n",
    "y_train_transf = list()\n",
    "X_test_transf = list()\n",
    "X_valid_transf = list()\n",
    "\n",
    "for e in range(X_train.shape[0]):\n",
    "    img = X_train[e]\n",
    "    label = y_train[e]\n",
    "    imgout = transform_img(img)\n",
    "    imgout.shape = (1,) + imgout.shape + (1,)\n",
    "    X_train_transf.append(imgout)\n",
    "    y_train_transf.append(label)\n",
    "    for j in range(100):\n",
    "        imgout = augment_img(img)\n",
    "        imgout.shape = (1,) + imgout.shape + (1,)\n",
    "        X_train_transf.append(imgout)\n",
    "        y_train_transf.append(label)\n",
    "    \n",
    "\n",
    "for e in range(X_valid.shape[0]):\n",
    "    img = X_valid[e]\n",
    "    img = transform_img(img)\n",
    "    img.shape = (1,) + img.shape + (1,)\n",
    "    X_valid_transf.append(img)\n",
    "    \n",
    "for e in range(X_test.shape[0]):\n",
    "    img = X_test[e]\n",
    "    img = transform_img(img)\n",
    "    img.shape = (1,) + img.shape + (1,)\n",
    "    X_test_transf.append(img)\n",
    "\n",
    "X_test_transf = np.concatenate(X_test_transf,axis=0)\n",
    "X_train_transf = np.concatenate(X_train_transf,axis=0)\n",
    "X_valid_transf = np.concatenate(X_valid_transf,axis=0)\n",
    "y_train_transf = np.array(y_train_transf)"
   ]
  },
  {
   "cell_type": "markdown",
   "metadata": {},
   "source": [
    "### Model Architecture"
   ]
  },
  {
   "cell_type": "code",
   "execution_count": 16,
   "metadata": {},
   "outputs": [],
   "source": [
    "### Define your architecture here.\n",
    "### Feel free to use as many code cells as needed.\n",
    "import tensorflow as tf"
   ]
  },
  {
   "cell_type": "code",
   "execution_count": 17,
   "metadata": {},
   "outputs": [],
   "source": [
    "from tensorflow.contrib.layers import flatten\n",
    "\n",
    "def LeNet(x):\n",
    "    \"\"\"\n",
    "    Implement classic lenet architecture in tensorflow\n",
    "    \"\"\"\n",
    "    mu = 0\n",
    "    sigma = 0.1\n",
    "    \n",
    "    # Layer 1: Convolutional. Input = 32x32x3. Output = 28x28x6.\n",
    "    conv1_W = tf.Variable(tf.truncated_normal(shape=(5, 5, 1, 6), mean = mu, stddev = sigma))\n",
    "    conv1_b = tf.Variable(tf.zeros(6))\n",
    "    conv1   = tf.nn.conv2d(x, conv1_W, strides=[1, 1, 1, 1], padding='VALID') + conv1_b\n",
    "\n",
    "    #  Activation.\n",
    "    conv1 = tf.nn.relu(conv1)\n",
    "\n",
    "    # Pooling. Input = 28x28x6. Output = 14x14x6.\n",
    "    conv1 = tf.nn.max_pool(conv1, ksize=[1, 2, 2, 1], strides=[1, 2, 2, 1], padding='VALID')\n",
    "\n",
    "    #  Layer 2: Convolutional. Output = 10x10x16.\n",
    "    conv2_W = tf.Variable(tf.truncated_normal(shape=(5, 5, 6, 16), mean = mu, stddev = sigma))\n",
    "    conv2_b = tf.Variable(tf.zeros(16))\n",
    "    conv2   = tf.nn.conv2d(conv1, conv2_W, strides=[1, 1, 1, 1], padding='VALID') + conv2_b\n",
    "    \n",
    "    #  Activation.\n",
    "    conv2 = tf.nn.relu(conv2)\n",
    "\n",
    "    # Pooling. Input = 10x10x16. Output = 5x5x16.\n",
    "    conv2 = tf.nn.max_pool(conv2, ksize=[1, 2, 2, 1], strides=[1, 2, 2, 1], padding='VALID')\n",
    "\n",
    "    # SFlatten. Input = 5x5x16. Output = 400.\n",
    "    fc0   = flatten(conv2)\n",
    "    \n",
    "    # Layer 3: Fully Connected. Input = 400. Output = 120.\n",
    "    fc1_W = tf.Variable(tf.truncated_normal(shape=(400, 120), mean = mu, stddev = sigma))\n",
    "    fc1_b = tf.Variable(tf.zeros(120))\n",
    "    fc1   = tf.matmul(fc0, fc1_W) + fc1_b\n",
    "    \n",
    "    #  Activation.\n",
    "    fc1    = tf.nn.relu(fc1)\n",
    "    \n",
    "    dr1 = tf.nn.dropout(fc1, keep_prob) \n",
    "    \n",
    "    # Layer 4: Fully Connected. Input = 120. Output = 84.\n",
    "    fc2_W  = tf.Variable(tf.truncated_normal(shape=(120, 84), mean = mu, stddev = sigma))\n",
    "    fc2_b  = tf.Variable(tf.zeros(84))\n",
    "    fc2    = tf.matmul(dr1, fc2_W) + fc2_b\n",
    "    \n",
    "    # Activation.\n",
    "    fc2    = tf.nn.relu(fc2)\n",
    "    \n",
    "    \n",
    "    dr2 = tf.nn.dropout(fc2, keep_prob) \n",
    "    \n",
    "    #  Layer 5: Fully Connected. Input = 84. Output = 10.\n",
    "    fc3_W  = tf.Variable(tf.truncated_normal(shape=(84, 43), mean = mu, stddev = sigma))\n",
    "    fc3_b  = tf.Variable(tf.zeros(43))\n",
    "    logits = tf.matmul(dr2, fc3_W) + fc3_b\n",
    "    \n",
    "    return logits"
   ]
  },
  {
   "cell_type": "code",
   "execution_count": 18,
   "metadata": {},
   "outputs": [],
   "source": [
    "#Feature and Labels\n",
    "#x->placeholeder for a batch of input images\n",
    "#y->placeholeder for a batch of output images\n",
    "x = tf.placeholder(tf.float32, (None, 32, 32, 1))\n",
    "y = tf.placeholder(tf.int32, (None))\n",
    "keep_prob = tf.placeholder(tf.float32)\n",
    "one_hot_y = tf.one_hot(y, 43)"
   ]
  },
  {
   "cell_type": "code",
   "execution_count": 19,
   "metadata": {},
   "outputs": [],
   "source": [
    "#Training pipeline\n",
    "rate = 0.0001\n",
    "\n",
    "logits = LeNet(x)\n",
    "cross_entropy = tf.nn.softmax_cross_entropy_with_logits(logits=logits,labels=one_hot_y)\n",
    "loss_operation = tf.reduce_mean(cross_entropy)\n",
    "optimizer = tf.train.AdamOptimizer(learning_rate = rate)\n",
    "training_operation = optimizer.minimize(loss_operation)\n",
    "predict_operation = tf.argmax(logits, 1)\n",
    "predict_proba_operation = tf.nn.softmax(logits=logits)"
   ]
  },
  {
   "cell_type": "code",
   "execution_count": 20,
   "metadata": {},
   "outputs": [],
   "source": [
    "#Model Evaluation\n",
    "correct_prediction = tf.equal(tf.argmax(logits, 1), tf.argmax(one_hot_y, 1))\n",
    "accuracy_operation = tf.reduce_mean(tf.cast(correct_prediction, tf.float32))\n",
    "\n",
    "def evaluate(X_data, y_data):\n",
    "    num_examples = len(X_data)\n",
    "    total_accuracy = 0\n",
    "    sess = tf.get_default_session()\n",
    "    for offset in range(0, num_examples, BATCH_SIZE):\n",
    "        batch_x, batch_y = X_data[offset:offset+BATCH_SIZE], y_data[offset:offset+BATCH_SIZE]\n",
    "        accuracy = sess.run(accuracy_operation, feed_dict={x: batch_x, y: batch_y, keep_prob: 1.0})\n",
    "        total_accuracy += (accuracy * len(batch_x))\n",
    "    return total_accuracy / num_examples\n",
    "\n",
    "\n",
    "def predict(X_data):\n",
    "    num_examples = len(X_data)\n",
    "    sess = tf.get_default_session()\n",
    "    predicted_proba = list()\n",
    "    for offset in range(0, num_examples, BATCH_SIZE):\n",
    "        batch_x = X_data[offset:offset+BATCH_SIZE]\n",
    "        predicted_proba.extend( sess.run(predict_proba_operation, feed_dict={x: batch_x, keep_prob: 1.0}))\n",
    "    return predicted_proba"
   ]
  },
  {
   "cell_type": "markdown",
   "metadata": {},
   "source": [
    "### Train, Validate and Test the Model"
   ]
  },
  {
   "cell_type": "markdown",
   "metadata": {},
   "source": [
    "A validation set can be used to assess how well the model is performing. A low accuracy on the training and validation\n",
    "sets imply underfitting. A high accuracy on the training set but low accuracy on the validation set implies overfitting."
   ]
  },
  {
   "cell_type": "code",
   "execution_count": 21,
   "metadata": {},
   "outputs": [],
   "source": [
    "### Train your model here.\n",
    "### Calculate and report the accuracy on the training and validation set.\n",
    "### Once a final model architecture is selected, \n",
    "### the accuracy on the test set should be calculated and reported as well.\n",
    "### Feel free to use as many code cells as needed.\n",
    "\n",
    "from sklearn.utils import shuffle\n",
    "from time import time"
   ]
  },
  {
   "cell_type": "code",
   "execution_count": 22,
   "metadata": {},
   "outputs": [],
   "source": [
    "X_train = X_train_transf\n",
    "X_valid = X_valid_transf\n",
    "X_test = X_test_transf\n",
    "y_train = y_train_transf"
   ]
  },
  {
   "cell_type": "code",
   "execution_count": 23,
   "metadata": {},
   "outputs": [],
   "source": [
    "#Do some logging\n",
    "import logging, datetime\n",
    "logger = logging.getLogger()\n",
    "\n",
    "def setup_file_logger(log_file):\n",
    "    hdlr = logging.FileHandler(log_file)\n",
    "    formatter = logging.Formatter('%(asctime)s %(levelname)s %(message)s')\n",
    "    hdlr.setFormatter(formatter)\n",
    "    logger.addHandler(hdlr) \n",
    "    logger.setLevel(logging.INFO)\n",
    "\n",
    "def log(message):\n",
    "    #outputs to Jupyter console\n",
    "    print('{} {}'.format(datetime.datetime.now(), message))\n",
    "    #outputs to file\n",
    "    logger.info(message)\n",
    "\n",
    "setup_file_logger('training.log')"
   ]
  },
  {
   "cell_type": "code",
   "execution_count": 24,
   "metadata": {},
   "outputs": [
    {
     "name": "stdout",
     "output_type": "stream",
     "text": [
      "2020-05-17 05:59:02.796917 Training... dropout = 0.3 , batch_size = 128 , learning rate = 0.0001\n",
      "\n",
      "2020-05-17 06:03:07.018842 EPOCH 1 - 245 sec ...\n",
      "2020-05-17 06:03:07.039837 Training error = 0.120 Validation error = 0.171\n",
      "\n",
      "2020-05-17 06:07:09.718573 EPOCH 2 - 488 sec ...\n",
      "2020-05-17 06:07:09.719396 Training error = 0.079 Validation error = 0.117\n",
      "\n",
      "2020-05-17 06:11:11.994451 EPOCH 3 - 730 sec ...\n",
      "2020-05-17 06:11:11.995534 Training error = 0.064 Validation error = 0.101\n",
      "\n",
      "2020-05-17 06:15:12.330030 EPOCH 4 - 971 sec ...\n",
      "2020-05-17 06:15:12.330871 Training error = 0.057 Validation error = 0.097\n",
      "\n",
      "2020-05-17 06:19:14.057622 EPOCH 5 - 1212 sec ...\n",
      "2020-05-17 06:19:14.058724 Training error = 0.053 Validation error = 0.084\n",
      "\n",
      "2020-05-17 06:23:13.642696 EPOCH 6 - 1452 sec ...\n",
      "2020-05-17 06:23:13.643661 Training error = 0.050 Validation error = 0.083\n",
      "\n",
      "2020-05-17 06:27:16.038566 EPOCH 7 - 1694 sec ...\n",
      "2020-05-17 06:27:16.056923 Training error = 0.049 Validation error = 0.083\n",
      "\n",
      "Model saved 1695 sec\n",
      "2020-05-17 06:31:16.536805 EPOCH 8 - 1935 sec ...\n",
      "2020-05-17 06:31:16.537828 Training error = 0.047 Validation error = 0.079\n",
      "\n",
      "2020-05-17 06:35:17.529933 EPOCH 9 - 2176 sec ...\n",
      "2020-05-17 06:35:17.531237 Training error = 0.046 Validation error = 0.079\n",
      "\n",
      "2020-05-17 06:39:18.209676 EPOCH 10 - 2416 sec ...\n",
      "2020-05-17 06:39:18.210778 Training error = 0.045 Validation error = 0.077\n",
      "\n",
      "Model saved 2417 sec\n",
      "2020-05-17 06:43:19.480024 EPOCH 11 - 2658 sec ...\n",
      "2020-05-17 06:43:19.481316 Training error = 0.044 Validation error = 0.077\n",
      "\n",
      "2020-05-17 06:47:22.664212 EPOCH 12 - 2901 sec ...\n",
      "2020-05-17 06:47:22.665366 Training error = 0.043 Validation error = 0.076\n",
      "\n",
      "2020-05-17 06:51:24.260810 EPOCH 13 - 3143 sec ...\n",
      "2020-05-17 06:51:24.261659 Training error = 0.042 Validation error = 0.073\n",
      "\n",
      "Model saved 3143 sec\n",
      "2020-05-17 06:55:24.280695 EPOCH 14 - 3383 sec ...\n",
      "2020-05-17 06:55:24.281541 Training error = 0.042 Validation error = 0.074\n",
      "\n",
      "2020-05-17 06:59:22.514960 EPOCH 15 - 3621 sec ...\n",
      "2020-05-17 06:59:22.515891 Training error = 0.041 Validation error = 0.072\n",
      "\n"
     ]
    }
   ],
   "source": [
    "EPOCHS = 15\n",
    "BATCH_SIZE = 128\n",
    "dropout = .3\n",
    "\n",
    "errors = list()\n",
    "\n",
    "saver = tf.train.Saver()\n",
    "start = time()\n",
    "with tf.Session() as sess:\n",
    "    sess.run(tf.global_variables_initializer())\n",
    "    num_examples = len(X_train)\n",
    "    \n",
    "    log(\"Training... dropout = {} , batch_size = {} , learning rate = {}\".format(dropout, BATCH_SIZE, rate))\n",
    "    print()\n",
    "    for i in range(EPOCHS):\n",
    "        \n",
    "        try:\n",
    "            X_train, y_train = shuffle(X_train, y_train)\n",
    "#             print(\"Before Train %d sec\"%(time() - start))\n",
    "            \n",
    "            for offset in range(0, num_examples, BATCH_SIZE):\n",
    "                end = offset + BATCH_SIZE\n",
    "                batch_x, batch_y = X_train[offset:end], y_train[offset:end]\n",
    "                sess.run(training_operation, feed_dict={x: batch_x, y: batch_y, keep_prob: 1 - dropout})\n",
    "            \n",
    "#             print(\"After Train %d sec\"%(time() - start))\n",
    "            \n",
    "            validation_accuracy = evaluate(X_valid, y_valid)\n",
    "            training_accuracy = evaluate(X_train, y_train)\n",
    "            \n",
    "            errors.append((training_accuracy,validation_accuracy))\n",
    "            log(\"EPOCH %d - %d sec ...\"%(i+1, time() - start))\n",
    "            log(\"Training error = {:.3f} Validation error = {:.3f}\".format(1- training_accuracy , \n",
    "                                                                                   1- validation_accuracy))\n",
    "            \n",
    "            print()\n",
    "            \n",
    "#             print(\"After error computation %d sec\"%(time() - start))\n",
    "            if i > 5 and i % 3 == 0:\n",
    "                saver.save(sess, './models/lenet')\n",
    "                print(\"Model saved %d sec\"%(time() - start))\n",
    "        except KeyboardInterrupt:\n",
    "            print('Accuracy Model On Test Images: {}'.format(evaluate(X_test,y_test)))   \n",
    "            break\n",
    "            \n",
    "    saver.save(sess, './models/lenet')"
   ]
  },
  {
   "cell_type": "code",
   "execution_count": 25,
   "metadata": {},
   "outputs": [
    {
     "data": {
      "image/png": "[encoded data removed]",
      "text/plain": [
       "<matplotlib.figure.Figure at 0x7f91aff30630>"
      ]
     },
     "metadata": {},
     "output_type": "display_data"
    }
   ],
   "source": [
    "plt.figure(figsize=(8,6))\n",
    "plt.title('Learning Curve')\n",
    "plt.plot([1 - el[0] for el in errors])\n",
    "plt.plot([1 - el[1] for el in errors])\n",
    "plt.ylim([-.01,0.35])\n",
    "plt.legend(['Training Error','Validation Error'])\n",
    "plt.tight_layout()\n",
    "plt.savefig('plots/learning_curve.png')\n",
    "plt.ylabel('Error')\n",
    "plt.xlabel('Epoch');\n"
   ]
  },
  {
   "cell_type": "code",
   "execution_count": 26,
   "metadata": {},
   "outputs": [
    {
     "name": "stdout",
     "output_type": "stream",
     "text": [
      "INFO:tensorflow:Restoring parameters from ./models/lenet\n",
      "Accuracy Model On Training Images: 0.96\n",
      "Accuracy Model On Validation Images: 0.93\n",
      "Accuracy Model On Test Images: 0.96\n"
     ]
    }
   ],
   "source": [
    "\n",
    "with tf.Session() as sess:\n",
    "    saver.restore(sess, tf.train.latest_checkpoint('./models'))\n",
    "    print('Accuracy Model On Training Images: {:.2f}'.format(evaluate(X_train,y_train)))\n",
    "    print('Accuracy Model On Validation Images: {:.2f}'.format(evaluate(X_valid,y_valid))) \n",
    "    print('Accuracy Model On Test Images: {:.2f}'.format(evaluate(X_test,y_test)))"
   ]
  },
  {
   "cell_type": "markdown",
   "metadata": {},
   "source": [
    "---\n",
    "\n",
    "## Step 3: Test a Model on New Images\n",
    "\n",
    "To give yourself more insight into how your model is working, download at least five pictures of German traffic signs from the web and use your model to predict the traffic sign type.\n",
    "\n",
    "You may find `signnames.csv` useful as it contains mappings from the class id (integer) to the actual sign name."
   ]
  },
  {
   "cell_type": "markdown",
   "metadata": {},
   "source": [
    "### Load and Output the Images"
   ]
  },
  {
   "cell_type": "code",
   "execution_count": 27,
   "metadata": {},
   "outputs": [],
   "source": [
    "### Load the images and plot them here.\n",
    "### Feel free to use as many code cells as needed.\n",
    "import skimage\n",
    "from skimage import io\n",
    "from skimage import transform\n",
    "from skimage.filters import gaussian\n",
    "import glob\n",
    "import warnings\n",
    "warnings.filterwarnings(\"ignore\")"
   ]
  },
  {
   "cell_type": "markdown",
   "metadata": {},
   "source": [
    "### Predict the Sign Type for Each Image"
   ]
  },
  {
   "cell_type": "code",
   "execution_count": 28,
   "metadata": {},
   "outputs": [
    {
     "name": "stdout",
     "output_type": "stream",
     "text": [
      "./Test_Images/go_straigth_or_left.jpg\n",
      "./Test_Images/80-Km-limit.jpg\n",
      "./Test_Images/children_crossing.jpg\n",
      "./Test_Images/50-Km-limit.jpg\n",
      "./Test_Images/double_curve.png\n"
     ]
    },
    {
     "data": {
      "image/png": "[encoded data removed]",
      "text/plain": [
       "<matplotlib.figure.Figure at 0x7f919716f588>"
      ]
     },
     "metadata": {},
     "output_type": "display_data"
    }
   ],
   "source": [
    "### Run the predictions here and use the model to output the prediction for each image.\n",
    "### Make sure to pre-process the images with the same pre-processing pipeline used earlier.\n",
    "### Feel free to use as many code cells as needed.\n",
    "i=1\n",
    "plt.figure(figsize=(12,10))\n",
    "for el in glob.glob('./Test_Images/*.jpg')+glob.glob('./Test_Images/*.png'):\n",
    "    print(el)\n",
    "    img = io.imread(el)    \n",
    "#     img = transform.resize(img,(32,32), order=3)\n",
    "#     img = gaussian(img,.4,multichannel=True)\n",
    "    \n",
    "    plt.subplot(1,6,i)\n",
    "    plt.imshow(img)\n",
    "    i+=1\n",
    "    plt.axis('off')\n",
    "    \n",
    "    img = transform.resize(img,(32,32), order=3)\n",
    "    img = gaussian(img,.4,multichannel=True)\n",
    "    \n",
    "plt.savefig('plots/new_images.png',bbox_inches='tight')"
   ]
  },
  {
   "cell_type": "markdown",
   "metadata": {},
   "source": [
    "### Analyze Performance"
   ]
  },
  {
   "cell_type": "code",
   "execution_count": 29,
   "metadata": {},
   "outputs": [],
   "source": [
    "# ### Calculate the accuracy for these 5 new images. \n",
    "# ### For example, if the model predicted 1 out of 5 signs correctly, it's 20% accurate on these new images.\n",
    "# # Read the images\n",
    "i=1\n",
    "images_wild = list()\n",
    "labels_wild = list()\n",
    "for line in open('Test_Images/data.txt','r'):\n",
    "    fname, label = line.strip().split(' ')\n",
    "    label = int(label)\n",
    "    fname = 'Test_Images/'+fname\n",
    "    img = io.imread(fname)    \n",
    "    img = transform.resize(img,(32,32), order=3)\n",
    "    img = gaussian(img,.6,multichannel=True)*255\n",
    "    img = transform_img(img.astype(np.uint8))\n",
    "    \n",
    "    img.shape = (1,) + img.shape + ( 1,)\n",
    "    images_wild.append(img)\n",
    "    labels_wild.append(label)"
   ]
  },
  {
   "cell_type": "code",
   "execution_count": 30,
   "metadata": {},
   "outputs": [],
   "source": [
    "images = np.concatenate(images_wild,axis=0)"
   ]
  },
  {
   "cell_type": "code",
   "execution_count": 31,
   "metadata": {},
   "outputs": [
    {
     "name": "stdout",
     "output_type": "stream",
     "text": [
      "INFO:tensorflow:Restoring parameters from ./models/lenet\n",
      "Accuracy Model On Internet Images: 0.3333333432674408\n"
     ]
    }
   ],
   "source": [
    "with tf.Session() as sess:\n",
    "    saver.restore(sess, tf.train.latest_checkpoint('./models'))\n",
    "    \n",
    "    predicted_proba = np.vstack(predict(images))\n",
    "#     print(predicted_proba)\n",
    "    print('Accuracy Model On Internet Images: {}'.format(evaluate(images, labels_wild)))"
   ]
  },
  {
   "cell_type": "markdown",
   "metadata": {},
   "source": [
    "### Output Top 5 Softmax Probabilities For Each Image Found on the Web"
   ]
  },
  {
   "cell_type": "markdown",
   "metadata": {},
   "source": [
    "For each of the new images, print out the model's softmax probabilities to show the **certainty** of the model's predictions (limit the output to the top 5 probabilities for each image). [`tf.nn.top_k`](https://www.tensorflow.org/versions/r0.12/api_docs/python/nn.html#top_k) could prove helpful here. \n",
    "\n",
    "The example below demonstrates how tf.nn.top_k can be used to find the top k predictions for each image.\n",
    "\n",
    "`tf.nn.top_k` will return the values and indices (class ids) of the top k predictions. So if k=3, for each sign, it'll return the 3 largest probabilities (out of a possible 43) and the correspoding class ids.\n",
    "\n",
    "Take this numpy array as an example. The values in the array represent predictions. The array contains softmax probabilities for five candidate images with six possible classes. `tf.nn.top_k` is used to choose the three classes with the highest probability:\n",
    "\n",
    "```\n",
    "# (5, 6) array\n",
    "a = np.array([[ 0.24879643,  0.07032244,  0.12641572,  0.34763842,  0.07893497,\n",
    "         0.12789202],\n",
    "       [ 0.28086119,  0.27569815,  0.08594638,  0.0178669 ,  0.18063401,\n",
    "         0.15899337],\n",
    "       [ 0.26076848,  0.23664738,  0.08020603,  0.07001922,  0.1134371 ,\n",
    "         0.23892179],\n",
    "       [ 0.11943333,  0.29198961,  0.02605103,  0.26234032,  0.1351348 ,\n",
    "         0.16505091],\n",
    "       [ 0.09561176,  0.34396535,  0.0643941 ,  0.16240774,  0.24206137,\n",
    "         0.09155967]])\n",
    "```\n",
    "\n",
    "Running it through `sess.run(tf.nn.top_k(tf.constant(a), k=3))` produces:\n",
    "\n",
    "```\n",
    "TopKV2(values=array([[ 0.34763842,  0.24879643,  0.12789202],\n",
    "       [ 0.28086119,  0.27569815,  0.18063401],\n",
    "       [ 0.26076848,  0.23892179,  0.23664738],\n",
    "       [ 0.29198961,  0.26234032,  0.16505091],\n",
    "       [ 0.34396535,  0.24206137,  0.16240774]]), indices=array([[3, 0, 5],\n",
    "       [0, 1, 4],\n",
    "       [0, 5, 1],\n",
    "       [1, 3, 5],\n",
    "       [1, 4, 3]], dtype=int32))\n",
    "```\n",
    "\n",
    "Looking just at the first row we get `[ 0.34763842,  0.24879643,  0.12789202]`, you can confirm these are the 3 largest probabilities in `a`. You'll also notice `[3, 0, 5]` are the corresponding indices."
   ]
  },
  {
   "cell_type": "code",
   "execution_count": 32,
   "metadata": {},
   "outputs": [
    {
     "name": "stdout",
     "output_type": "stream",
     "text": [
      "Top 5 Labels for image 'Double curve':\n",
      " - 'Road work' with prob = 0.92 \n",
      " - 'Speed limit (50km/h)' with prob = 0.04 \n",
      " - 'Keep left' with prob = 0.02 \n",
      " - 'Right-of-way at the next intersection' with prob = 0.00 \n",
      " - 'Roundabout mandatory' with prob = 0.00 \n",
      "Top 5 Labels for image 'Children crossing':\n",
      " - 'Children crossing' with prob = 0.87 \n",
      " - 'Right-of-way at the next intersection' with prob = 0.05 \n",
      " - 'Bicycles crossing' with prob = 0.03 \n",
      " - 'Beware of ice/snow' with prob = 0.01 \n",
      " - 'Speed limit (50km/h)' with prob = 0.01 \n",
      "Top 5 Labels for image 'Speed limit (50km/h)':\n",
      " - 'Speed limit (50km/h)' with prob = 1.00 \n",
      " - 'Speed limit (80km/h)' with prob = 0.00 \n",
      " - 'Speed limit (60km/h)' with prob = 0.00 \n",
      " - 'Speed limit (30km/h)' with prob = 0.00 \n",
      " - 'Speed limit (100km/h)' with prob = 0.00 \n",
      "Top 5 Labels for image 'Stop':\n",
      " - 'Speed limit (60km/h)' with prob = 0.61 \n",
      " - 'Children crossing' with prob = 0.16 \n",
      " - 'End of speed limit (80km/h)' with prob = 0.05 \n",
      " - 'Right-of-way at the next intersection' with prob = 0.04 \n",
      " - 'Dangerous curve to the right' with prob = 0.03 \n",
      "Top 5 Labels for image 'Go straight or left':\n",
      " - 'Turn left ahead' with prob = 1.00 \n",
      " - 'Ahead only' with prob = 0.00 \n",
      " - 'Go straight or left' with prob = 0.00 \n",
      " - 'Priority road' with prob = 0.00 \n",
      " - 'Roundabout mandatory' with prob = 0.00 \n",
      "Top 5 Labels for image 'Speed limit (80km/h)':\n",
      " - 'No entry' with prob = 0.50 \n",
      " - 'General caution' with prob = 0.23 \n",
      " - 'Traffic signals' with prob = 0.09 \n",
      " - 'Turn right ahead' with prob = 0.07 \n",
      " - 'Children crossing' with prob = 0.04 \n"
     ]
    }
   ],
   "source": [
    "### Print out the top five softmax probabilities for the predictions on the German traffic sign images found on the web. \n",
    "### Feel free to use as many code cells as needed.\n",
    "for true_label,row in zip(labels_wild,predicted_proba):\n",
    "    top5k = np.argsort(row)[::-1][:5]\n",
    "    top5p = np.sort(row)[::-1][:5]\n",
    "    print('Top 5 Labels for image \\'{}\\':'.format(get_sign_name(true_label)))\n",
    "    for k,p in zip(top5k,top5p):\n",
    "          print(' - \\'{}\\' with prob = {:.2f} '.format(get_sign_name(k),p))"
   ]
  },
  {
   "cell_type": "markdown",
   "metadata": {},
   "source": [
    "### Project Writeup\n",
    "\n",
    "Once you have completed the code implementation, document your results in a project writeup using this [template](https://github.com/udacity/CarND-Traffic-Sign-Classifier-Project/blob/master/writeup_template.md) as a guide. The writeup can be in a markdown or pdf file. "
   ]
  },
  {
   "cell_type": "markdown",
   "metadata": {},
   "source": [
    "> **Note**: Once you have completed all of the code implementations and successfully answered each question above, you may finalize your work by exporting the iPython Notebook as an HTML document. You can do this by using the menu above and navigating to  \\n\",\n",
    "    \"**File -> Download as -> HTML (.html)**. Include the finished document along with this notebook as your submission."
   ]
  },
  {
   "cell_type": "markdown",
   "metadata": {},
   "source": [
    "---\n",
    "\n",
    "## Step 4 (Optional): Visualize the Neural Network's State with Test Images\n",
    "\n",
    " This Section is not required to complete but acts as an additional excersise for understaning the output of a neural network's weights. While neural networks can be a great learning device they are often referred to as a black box. We can understand what the weights of a neural network look like better by plotting their feature maps. After successfully training your neural network you can see what it's feature maps look like by plotting the output of the network's weight layers in response to a test stimuli image. From these plotted feature maps, it's possible to see what characteristics of an image the network finds interesting. For a sign, maybe the inner network feature maps react with high activation to the sign's boundary outline or to the contrast in the sign's painted symbol.\n",
    "\n",
    " Provided for you below is the function code that allows you to get the visualization output of any tensorflow weight layer you want. The inputs to the function should be a stimuli image, one used during training or a new one you provided, and then the tensorflow variable name that represents the layer's state during the training process, for instance if you wanted to see what the [LeNet lab's](https://classroom.udacity.com/nanodegrees/nd013/parts/fbf77062-5703-404e-b60c-95b78b2f3f9e/modules/6df7ae49-c61c-4bb2-a23e-6527e69209ec/lessons/601ae704-1035-4287-8b11-e2c2716217ad/concepts/d4aca031-508f-4e0b-b493-e7b706120f81) feature maps looked like for it's second convolutional layer you could enter conv2 as the tf_activation variable.\n",
    "\n",
    "For an example of what feature map outputs look like, check out NVIDIA's results in their paper [End-to-End Deep Learning for Self-Driving Cars](https://devblogs.nvidia.com/parallelforall/deep-learning-self-driving-cars/) in the section Visualization of internal CNN State. NVIDIA was able to show that their network's inner weights had high activations to road boundary lines by comparing feature maps from an image with a clear path to one without. Try experimenting with a similar test to show that your trained network's weights are looking for interesting features, whether it's looking at differences in feature maps from images with or without a sign, or even what feature maps look like in a trained network vs a completely untrained one on the same sign image.\n",
    "\n",
    "<figure>\n",
    " <img src=\"visualize_cnn.png\" width=\"380\" alt=\"Combined Image\" />\n",
    " <figcaption>\n",
    " <p></p> \n",
    " <p style=\"text-align: center;\"> Your output should look something like this (above)</p> \n",
    " </figcaption>\n",
    "</figure>\n",
    " <p></p> \n"
   ]
  },
  {
   "cell_type": "code",
   "execution_count": 33,
   "metadata": {},
   "outputs": [],
   "source": [
    "### Visualize your network's feature maps here.\n",
    "### Feel free to use as many code cells as needed.\n",
    "\n",
    "# image_input: the test image being fed into the network to produce the feature maps\n",
    "# tf_activation: should be a tf variable name used during your training procedure that represents the calculated state of a specific weight layer\n",
    "# activation_min/max: can be used to view the activation contrast in more detail, by default matplot sets min and max to the actual min and max values of the output\n",
    "# plt_num: used to plot out multiple different weight feature map sets on the same block, just extend the plt number for each new feature map entry\n",
    "\n",
    "def outputFeatureMap(image_input, tf_activation, activation_min=-1, activation_max=-1 ,plt_num=1):\n",
    "    # Here make sure to preprocess your image_input in a way your network expects\n",
    "    # with size, normalization, ect if needed\n",
    "    # image_input =\n",
    "    # Note: x should be the same name as your network's tensorflow data placeholder variable\n",
    "    # If you get an error tf_activation is not defined it may be having trouble accessing the variable from inside a function\n",
    "    activation = tf_activation.eval(session=sess,feed_dict={x : image_input})\n",
    "    featuremaps = activation.shape[3]\n",
    "    plt.figure(plt_num, figsize=(15,15))\n",
    "    for featuremap in range(featuremaps):\n",
    "        plt.subplot(6,8, featuremap+1) # sets the number of feature maps to show on each row and column\n",
    "        plt.title('FeatureMap ' + str(featuremap)) # displays the feature map number\n",
    "        if activation_min != -1 & activation_max != -1:\n",
    "            plt.imshow(activation[0,:,:, featuremap], interpolation=\"nearest\", vmin =activation_min, vmax=activation_max, cmap=\"gray\")\n",
    "        elif activation_max != -1:\n",
    "            plt.imshow(activation[0,:,:, featuremap], interpolation=\"nearest\", vmax=activation_max, cmap=\"gray\")\n",
    "        elif activation_min !=-1:\n",
    "            plt.imshow(activation[0,:,:, featuremap], interpolation=\"nearest\", vmin=activation_min, cmap=\"gray\")\n",
    "        else:\n",
    "            plt.imshow(activation[0,:,:, featuremap], interpolation=\"nearest\", cmap=\"gray\")"
   ]
  },
  {
   "cell_type": "code",
   "execution_count": null,
   "metadata": {},
   "outputs": [],
   "source": []
  }
 ],
 "metadata": {
  "anaconda-cloud": {},
  "kernelspec": {
   "display_name": "Python 3",
   "language": "python",
   "name": "python3"
  },
  "language_info": {
   "codemirror_mode": {
    "name": "ipython",
    "version": 3
   },
   "file_extension": ".py",
   "mimetype": "text/x-python",
   "name": "python",
   "nbconvert_exporter": "python",
   "pygments_lexer": "ipython3",
   "version": "3.6.3"
  }
 },
 "nbformat": 4,
 "nbformat_minor": 1
}
